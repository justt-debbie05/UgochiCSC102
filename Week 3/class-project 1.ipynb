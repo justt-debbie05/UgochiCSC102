{
 "cells": [
  {
   "cell_type": "markdown",
   "metadata": {},
   "source": [
    "# PROJECT 1\n",
    "### PSEUDOCODE FOR PROJECT 1\n",
    "##### INPUT Number\n",
    "##### INPUT 17\n",
    "##### COMPUTE Difference between number and 17\n",
    "##### IF number > 17\n",
    "##### RETURN double the absolute difference\n",
    "\n"
   ]
  },
  {
   "cell_type": "markdown",
   "metadata": {},
   "source": [
    "![Picture1](images/Picture1.png)"
   ]
  },
  {
   "cell_type": "code",
   "execution_count": null,
   "metadata": {},
   "outputs": [],
   "source": [
    "a=int(input(\"Input number\"))\n",
    "b= 17\n",
    "c= a-b\n",
    "d= c*2\n",
    "print (c)\n",
    "if a>b:\n",
    "    print (d)\n",
    "else:\n",
    "    print (c)"
   ]
  },
  {
   "cell_type": "code",
   "execution_count": null,
   "metadata": {},
   "outputs": [],
   "source": []
  }
 ],
 "metadata": {
  "kernelspec": {
   "display_name": "Python 3",
   "language": "python",
   "name": "python3"
  },
  "language_info": {
   "codemirror_mode": {
    "name": "ipython",
    "version": 3
   },
   "file_extension": ".py",
   "mimetype": "text/x-python",
   "name": "python",
   "nbconvert_exporter": "python",
   "pygments_lexer": "ipython3",
   "version": "3.8.3"
  }
 },
 "nbformat": 4,
 "nbformat_minor": 4
}
