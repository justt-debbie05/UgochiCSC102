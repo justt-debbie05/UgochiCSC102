{
 "cells": [
  {
   "cell_type": "code",
   "execution_count": 16,
   "metadata": {},
   "outputs": [
    {
     "name": "stdout",
     "output_type": "stream",
     "text": [
      "Solomon\n"
     ]
    }
   ],
   "source": [
    "class student():\n",
    "    def __init__(self,name,dob,mat_no,course):\n",
    "        self.name = name\n",
    "        self.dob = dob\n",
    "        self.mat_no = mat_no\n",
    "        self.course = course\n",
    "\n",
    "    def CA(self,class_name,ca_score,exam_score):\n",
    "        self.class_name = class_name\n",
    "        self.ca_score = ca_score\n",
    "        self.exam_score = exam_score\n",
    "        self.total1 = ca-score + exam_score\n",
    "        print(\"Name of course: \"+ class_name + \";CA score:\" + ca_score)\n",
    "            \n",
    "    def gpa(self,total1, total2, total3):\n",
    "        final = ((total1 + total2 + total3)/ 300) * 5\n",
    "        print(\"GPA:\" + final)\n",
    "               \n",
    "            \n",
    "class Post_graduate(student):\n",
    "    def __init__(self, name, dob, mat_no, course, thesis, hostel_number):\n",
    "        super().__init__ ( name, dob, mat_no, course)\n",
    "        self.thesis = thesis\n",
    "        self.hostel_number = hostel_number\n",
    "                \n",
    "class Masters(student):\n",
    "    def __init__(self, name, dob, mat_no, course, speciality, extra_fee):\n",
    "        super().__init__ (name,dob,mat_no,course)\n",
    "        self.speciality = speciality\n",
    "        self.extra_fee = extra_fee\n",
    "        \n",
    "student1 = Post_graduate(\"Solomon\",\"2-5-2000\",1234575849,\"Accounting\",\"Food as an art\",204)\n",
    "student2 = Masters(\"Tonbara\",\"5-01-2005\",5637347288,\"ISMS\",\"Poverty as a struggle\",207)\n",
    "        \n",
    "print (student1.name)\n",
    "    "
   ]
  },
  {
   "cell_type": "code",
   "execution_count": 11,
   "metadata": {},
   "outputs": [],
   "source": [
    "a = 15\n",
    "def lol():\n",
    "        a = 21 // 3\n",
    "        return a\n",
    "        print (a)\n",
    "    "
   ]
  },
  {
   "cell_type": "code",
   "execution_count": null,
   "metadata": {},
   "outputs": [],
   "source": []
  },
  {
   "cell_type": "code",
   "execution_count": null,
   "metadata": {},
   "outputs": [],
   "source": []
  }
 ],
 "metadata": {
  "kernelspec": {
   "display_name": "Python 3",
   "language": "python",
   "name": "python3"
  },
  "language_info": {
   "codemirror_mode": {
    "name": "ipython",
    "version": 3
   },
   "file_extension": ".py",
   "mimetype": "text/x-python",
   "name": "python",
   "nbconvert_exporter": "python",
   "pygments_lexer": "ipython3",
   "version": "3.8.3"
  }
 },
 "nbformat": 4,
 "nbformat_minor": 4
}
