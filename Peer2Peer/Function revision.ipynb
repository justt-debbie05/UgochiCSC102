{
 "cells": [
  {
   "cell_type": "code",
   "execution_count": 43,
   "metadata": {},
   "outputs": [],
   "source": [
    "def bio(name ,age ,school ):\n",
    "    print(\"Hi\"+ name\n",
    "         +\"You are\"+ str(age)\n",
    "         +\"You go to\"+school)\n",
    "\n",
    "      "
   ]
  },
  {
   "cell_type": "code",
   "execution_count": 44,
   "metadata": {},
   "outputs": [
    {
     "name": "stdout",
     "output_type": "stream",
     "text": [
      "What is your name?ugochi\n",
      "How old?16\n",
      "What school?PAU\n",
      "HiugochiYou are16You go toPAU\n"
     ]
    }
   ],
   "source": [
    "name = input(str(\"What is your name?\"))\n",
    "age = int(input(\"How old?\"))\n",
    "school= str(input(\"What school?\"))\n",
    "            \n",
    "bio(name ,age ,school )   "
   ]
  },
  {
   "cell_type": "code",
   "execution_count": 45,
   "metadata": {},
   "outputs": [],
   "source": [
    "def speed(distance ,time ):\n",
    "    s = distance/time\n",
    "    print (s)"
   ]
  },
  {
   "cell_type": "code",
   "execution_count": 46,
   "metadata": {},
   "outputs": [
    {
     "name": "stdout",
     "output_type": "stream",
     "text": [
      "What is your distance?64\n",
      "How long has your car been on the road?56\n",
      "1.1428571428571428\n"
     ]
    }
   ],
   "source": [
    "distance = int(input(\"What is your distance?\"))\n",
    "time = int(input(\"How long has your car been on the road?\"))\n",
    "speed(distance ,time )"
   ]
  },
  {
   "cell_type": "code",
   "execution_count": null,
   "metadata": {},
   "outputs": [],
   "source": []
  }
 ],
 "metadata": {
  "kernelspec": {
   "display_name": "Python 3",
   "language": "python",
   "name": "python3"
  },
  "language_info": {
   "codemirror_mode": {
    "name": "ipython",
    "version": 3
   },
   "file_extension": ".py",
   "mimetype": "text/x-python",
   "name": "python",
   "nbconvert_exporter": "python",
   "pygments_lexer": "ipython3",
   "version": "3.8.3"
  }
 },
 "nbformat": 4,
 "nbformat_minor": 4
}
