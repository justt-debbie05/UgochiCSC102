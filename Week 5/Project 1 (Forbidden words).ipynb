{
 "cells": [
  {
   "cell_type": "code",
   "execution_count": 13,
   "metadata": {},
   "outputs": [
    {
     "name": "stdout",
     "output_type": "stream",
     "text": [
      "Please input name:jsjhs\n",
      "You typed ****\n"
     ]
    }
   ],
   "source": [
    "# Ugochi's code - this is my code, I have commented to enable readability.\n",
    "def avoids():\n",
    "    a = [\"f\",\"p\",\"s\",\"b\",\"n\"] # forbidden letter of: f, p, s, b and n word\n",
    "    name = str(input(\"Please input name:\"))\n",
    "    \n",
    "    c=str(list(name))\n",
    "    answer = True\n",
    "    \n",
    "    for d in c:\n",
    "        if d in a:\n",
    "            answer = False\n",
    "            print(\"You typed ****\")\n",
    "            break\n",
    "    else:\n",
    "        print(\"You entered \" + name)\n",
    "avoids()"
   ]
  },
  {
   "cell_type": "code",
   "execution_count": 15,
   "metadata": {},
   "outputs": [
    {
     "name": "stdout",
     "output_type": "stream",
     "text": [
      "equal\n"
     ]
    }
   ],
   "source": [
    "a = 3\n",
    "b = 3\n",
    "\n",
    "if (a == b):\n",
    "    print(\"equal\")\n",
    "else:\n",
    "    print(\"not equal\")"
   ]
  },
  {
   "cell_type": "code",
   "execution_count": null,
   "metadata": {},
   "outputs": [],
   "source": []
  }
 ],
 "metadata": {
  "kernelspec": {
   "display_name": "Python 3",
   "language": "python",
   "name": "python3"
  },
  "language_info": {
   "codemirror_mode": {
    "name": "ipython",
    "version": 3
   },
   "file_extension": ".py",
   "mimetype": "text/x-python",
   "name": "python",
   "nbconvert_exporter": "python",
   "pygments_lexer": "ipython3",
   "version": "3.8.3"
  }
 },
 "nbformat": 4,
 "nbformat_minor": 4
}
