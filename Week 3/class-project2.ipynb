{
 "cells": [
  {
   "cell_type": "markdown",
   "metadata": {},
   "source": [
    "## PROJECT 2\n",
    "### PSEUDOCODE FOR PROJECT 2\n",
    "#### INPUT Number 1\n",
    "#### INPUT Number 2\n",
    "#### INPUT Number 3\n",
    "#### COMPUTE The sum of the three numbers inputed\n",
    "#### IF The three numbers inputed are =\n",
    "#### RETURN Thrice the sum\n",
    "#### ELSE \n",
    "#### COMPUTE The sum of the three numbers inputed"
   ]
  },
  {
   "cell_type": "markdown",
   "metadata": {},
   "source": [
    "![Picture 2](images/Picture2.png)"
   ]
  },
  {
   "cell_type": "code",
   "execution_count": null,
   "metadata": {},
   "outputs": [],
   "source": []
  }
 ],
 "metadata": {
  "kernelspec": {
   "display_name": "Python 3",
   "language": "python",
   "name": "python3"
  },
  "language_info": {
   "codemirror_mode": {
    "name": "ipython",
    "version": 3
   },
   "file_extension": ".py",
   "mimetype": "text/x-python",
   "name": "python",
   "nbconvert_exporter": "python",
   "pygments_lexer": "ipython3",
   "version": "3.8.3"
  }
 },
 "nbformat": 4,
 "nbformat_minor": 4
}
